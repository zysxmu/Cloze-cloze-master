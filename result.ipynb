{
 "cells": [
  {
   "cell_type": "markdown",
   "metadata": {},
   "source": [
    "# output test result"
   ]
  },
  {
   "cell_type": "markdown",
   "metadata": {},
   "source": [
    "### 训练词向量 参数 (hs=1,window=7,size=300,min_count=1,workers=4)"
   ]
  },
  {
   "cell_type": "code",
   "execution_count": 1,
   "metadata": {
    "collapsed": true
   },
   "outputs": [],
   "source": [
    "from gensim.models import word2vec\n",
    "from gensim.models import KeyedVectors\n",
    "\n",
    "# 引入日志配置\n",
    "#import logging\n",
    "\n",
    "#logging.basicConfig(format='%(asctime)s : %(levelname)s : %(message)s', level=logging.INFO)\n",
    "\n",
    "# 引入数据集\n",
    "raw_sentences = open('./train-sentences.txt').read()\n",
    "\n",
    "\n",
    "\n",
    "raw_sentences = raw_sentences.split('\\n')\n",
    "\n",
    "# 切分词汇\n",
    "sentences = [s.split(' ') for s in raw_sentences]\n",
    "\n",
    "# 构建模型\n",
    "model = word2vec.Word2Vec(sentences,hs=1,window=10,size=300,min_count=5,workers =7)"
   ]
  },
  {
   "cell_type": "markdown",
   "metadata": {},
   "source": [
    "### 准备test上下文"
   ]
  },
  {
   "cell_type": "code",
   "execution_count": 9,
   "metadata": {},
   "outputs": [
    {
     "name": "stdout",
     "output_type": "stream",
     "text": [
      "801\n",
      "800\n"
     ]
    }
   ],
   "source": [
    "import re\n",
    "dev = open('./test_set.txt').read()\n",
    "\n",
    "dev = re.sub(r\"\\n\\n\\n\",'#', dev)\n",
    "\n",
    "dev_questions = dev.split('#')\n",
    "print(len(dev_questions))\n",
    "dev_questions = dev_questions[0:-1]\n",
    "print(len(dev_questions))\n",
    "\n",
    "\n",
    "answer_abcde_dic = {}\n",
    "question_dic = {}\n",
    "\n",
    "for dev_question in dev_questions:\n",
    "    \n",
    "    question_num = dev_question[:dev_question.find(')')]\n",
    "    question = dev_question[dev_question.find(' ')+1:dev_question.find('\\n')]\n",
    "    \n",
    "    \n",
    "    \n",
    "    a_answer = dev_question[dev_question.find('a)')+3:dev_question.find('\\n',dev_question.find('a)')+3)]\n",
    "    b_answer = dev_question[dev_question.find('b)')+3:dev_question.find('\\n',dev_question.find('b)')+3)]\n",
    "    c_answer = dev_question[dev_question.find('c)')+3:dev_question.find('\\n',dev_question.find('c)')+3)]\n",
    "    d_answer = dev_question[dev_question.find('d)')+3:dev_question.find('\\n',dev_question.find('d)')+3)]\n",
    "    e_answer = dev_question[dev_question.find('e)')+3:]\n",
    "    \n",
    "    question_dic[question_num] = question.replace('_____','')\n",
    "    \n",
    "    answer_abcde_dic[question_num] = []\n",
    "    answer_abcde_dic[question_num].append(a_answer)\n",
    "    answer_abcde_dic[question_num].append(b_answer)\n",
    "    answer_abcde_dic[question_num].append(c_answer)\n",
    "    answer_abcde_dic[question_num].append(d_answer)\n",
    "    answer_abcde_dic[question_num].append(e_answer)\n",
    "    \n",
    "import string\n",
    "for key in question_dic.keys():\n",
    "    for letter in string.punctuation:\n",
    "        question_dic[key] = question_dic[key].replace(letter,' ')\n",
    "        \n",
    "# 多个' '变一个' '，去掉前后的' '\n",
    "for key in question_dic.keys():\n",
    "    question_dic[key] = re.sub(' +',' ',question_dic[key])\n",
    "    question_dic[key] = question_dic[key].strip() \n",
    "# 变成小写\n",
    "for key in question_dic.keys():\n",
    "    question_dic[key] = question_dic[key].lower()"
   ]
  },
  {
   "cell_type": "markdown",
   "metadata": {},
   "source": [
    "### 获得预测的概率"
   ]
  },
  {
   "cell_type": "code",
   "execution_count": 24,
   "metadata": {},
   "outputs": [],
   "source": [
    "def get_pre_wv_pro(question_dic,answer_abcde_dic,model):\n",
    "    answer_dic = {}\n",
    "\n",
    "    for key in question_dic.keys():\n",
    "        \n",
    "        answer_dic[key] = []\n",
    "        \n",
    "        tupeList = model.predict_output_word(question_dic[key].split(' '),topn=40000)\n",
    "        dicList = {}\n",
    "        for tup in tupeList:\n",
    "            dicList[tup[0]] = tup[1]\n",
    "        \n",
    "        \n",
    "        for answer in answer_abcde_dic[key]:\n",
    "            pro = 0\n",
    "            if answer in dicList:\n",
    "                pro = dicList[answer]\n",
    "                \n",
    "            answer_dic[key].append(pro)\n",
    "            \n",
    "        \n",
    "            \n",
    "    answer_list = []\n",
    "    compare = ['a','b','c','d','e']\n",
    "\n",
    "    for k,v in answer_dic.items():\n",
    "        maxIndex = v.index(max(v))\n",
    "       \n",
    "        answer_list.append(str(k) + ' ' + str(compare[maxIndex]) + ' ' + answer_abcde_dic[k][maxIndex])\n",
    "            \n",
    "    return answer_list\n",
    "\n",
    "\n",
    "answer_result = get_pre_wv_pro(question_dic,answer_abcde_dic,model)\n",
    "\n"
   ]
  },
  {
   "cell_type": "code",
   "execution_count": null,
   "metadata": {
    "collapsed": true
   },
   "outputs": [],
   "source": [
    "f=open('result.txt','w')\n",
    "for sentence in write_out_list:\n",
    "    f.write(sentence+\"\\n\")\n",
    "f.close()"
   ]
  }
 ],
 "metadata": {
  "kernelspec": {
   "display_name": "Python 3",
   "language": "python",
   "name": "python3"
  },
  "language_info": {
   "codemirror_mode": {
    "name": "ipython",
    "version": 3
   },
   "file_extension": ".py",
   "mimetype": "text/x-python",
   "name": "python",
   "nbconvert_exporter": "python",
   "pygments_lexer": "ipython3",
   "version": "3.6.2"
  }
 },
 "nbformat": 4,
 "nbformat_minor": 2
}
